{
 "cells": [
  {
   "cell_type": "markdown",
   "metadata": {},
   "source": [
    "# Quante persone saranno contagiate?"
   ]
  },
  {
   "cell_type": "markdown",
   "metadata": {},
   "source": [
    "Si vedono tante proiezioni sui contagiati, tutte fanno vedere una curva esponenziale (che shizza verso l'alto).\n",
    "Questo effetto piuttosto drammatico è dato più dalla scelta del modello statistico che dai dati in sè.\n",
    "\n",
    "In questo notebook confrontiamo il modello esponenziale con un modello più sobrio, che tiene conto del più comune andamento dei fenomeni biologici: cioè una rapida crescita seguita da un assestamento. Faremo anche una predizione su quando avverrà questo assestamento.\n",
    "\n",
    "Per cominciare importiamo le librerie, carichiamo i dati e facciamo una pulizia."
   ]
  },
  {
   "cell_type": "code",
   "execution_count": 1,
   "metadata": {},
   "outputs": [
    {
     "data": {
      "text/html": [
       "<div>\n",
       "<style scoped>\n",
       "    .dataframe tbody tr th:only-of-type {\n",
       "        vertical-align: middle;\n",
       "    }\n",
       "\n",
       "    .dataframe tbody tr th {\n",
       "        vertical-align: top;\n",
       "    }\n",
       "\n",
       "    .dataframe thead th {\n",
       "        text-align: right;\n",
       "    }\n",
       "</style>\n",
       "<table border=\"1\" class=\"dataframe\">\n",
       "  <thead>\n",
       "    <tr style=\"text-align: right;\">\n",
       "      <th></th>\n",
       "      <th>provincia</th>\n",
       "      <th>numero</th>\n",
       "      <th>regione</th>\n",
       "      <th>datetime</th>\n",
       "      <th>codiceISTAT</th>\n",
       "    </tr>\n",
       "  </thead>\n",
       "  <tbody>\n",
       "    <tr>\n",
       "      <th>52</th>\n",
       "      <td>Torino</td>\n",
       "      <td>19.0</td>\n",
       "      <td>PIEMONTE</td>\n",
       "      <td>2020-03-05</td>\n",
       "      <td>201.0</td>\n",
       "    </tr>\n",
       "    <tr>\n",
       "      <th>14</th>\n",
       "      <td>Piacenza</td>\n",
       "      <td>378.0</td>\n",
       "      <td>EMILIA-ROMAGNA</td>\n",
       "      <td>2020-03-05</td>\n",
       "      <td>33.0</td>\n",
       "    </tr>\n",
       "    <tr>\n",
       "      <th>171</th>\n",
       "      <td>VICENZA</td>\n",
       "      <td>10.0</td>\n",
       "      <td>VENETO</td>\n",
       "      <td>2020-03-04</td>\n",
       "      <td>24.0</td>\n",
       "    </tr>\n",
       "    <tr>\n",
       "      <th>254</th>\n",
       "      <td>Reggio Emilia</td>\n",
       "      <td>8.0</td>\n",
       "      <td>EMILIA-ROMAGNA</td>\n",
       "      <td>2020-03-02</td>\n",
       "      <td>35.0</td>\n",
       "    </tr>\n",
       "    <tr>\n",
       "      <th>124</th>\n",
       "      <td>Milano</td>\n",
       "      <td>145.0</td>\n",
       "      <td>LOMBARDIA</td>\n",
       "      <td>2020-03-04</td>\n",
       "      <td>215.0</td>\n",
       "    </tr>\n",
       "  </tbody>\n",
       "</table>\n",
       "</div>"
      ],
      "text/plain": [
       "         provincia  numero         regione    datetime  codiceISTAT\n",
       "52          Torino    19.0        PIEMONTE  2020-03-05        201.0\n",
       "14        Piacenza   378.0  EMILIA-ROMAGNA  2020-03-05         33.0\n",
       "171        VICENZA    10.0          VENETO  2020-03-04         24.0\n",
       "254  Reggio Emilia     8.0  EMILIA-ROMAGNA  2020-03-02         35.0\n",
       "124         Milano   145.0       LOMBARDIA  2020-03-04        215.0"
      ]
     },
     "execution_count": 1,
     "metadata": {},
     "output_type": "execute_result"
    }
   ],
   "source": [
    "import numpy as np\n",
    "import pandas as pd\n",
    "import seaborn as sns\n",
    "import matplotlib.pyplot as plt\n",
    "from lmfit import Model\n",
    "\n",
    "df = pd.read_csv('./../publication/provinceArchivioISTAT.csv')\n",
    "df = df.dropna()\n",
    "df.sample(5)\n"
   ]
  },
  {
   "cell_type": "markdown",
   "metadata": {},
   "source": [
    "Prendiamo in esame i malati cumulativi in base ai giorni."
   ]
  },
  {
   "cell_type": "code",
   "execution_count": 2,
   "metadata": {},
   "outputs": [
    {
     "data": {
      "image/png": "[encoded data removed]",
      "text/plain": [
       "<Figure size 432x288 with 1 Axes>"
      ]
     },
     "metadata": {
      "needs_background": "light"
     },
     "output_type": "display_data"
    }
   ],
   "source": [
    "# semplifichiamo le date usando il giorno dell'anno ( da 0 a 365 )\n",
    "df['tempo'] = df['datetime'].map( lambda d: pd.to_datetime(d).timetuple().tm_yday )\n",
    "\n",
    "# raggruppa in base al giorno\n",
    "df_by_datetime = df[ ['datetime', 'tempo', 'numero'] ].groupby('tempo')\n",
    "df_by_datetime = df_by_datetime.sum().sort_values(by='tempo')\n",
    "df_by_datetime = df_by_datetime.reset_index()\n",
    "\n",
    "# contagi cumulativi\n",
    "g = sns.scatterplot(data=df_by_datetime, x='tempo', y='numero')\n",
    "g.set_title('Andamento numero contagiati (cumulativo)')\n",
    "plt.show()"
   ]
  },
  {
   "cell_type": "markdown",
   "metadata": {},
   "source": [
    "Definiamo tre modelli diversi\n",
    "- linea\n",
    "- esponente\n",
    "- sigmoide"
   ]
  },
  {
   "cell_type": "code",
   "execution_count": 6,
   "metadata": {},
   "outputs": [],
   "source": [
    "def line(x, a, b, c):\n",
    "    return x*a + b\n",
    "line_init_params = { 'a': 2, 'b': 1, 'c':0 }\n",
    "\n",
    "def exponent(x, a, b, c):\n",
    "    return (x**a) * b + c\n",
    "exp_init_params = { 'a': 2, 'b': 1, 'c':0 }\n",
    "\n",
    "def sigmoid(x, a, b, c):\n",
    "    expo = a * (b - x)\n",
    "    sig = 1 / ( 1 + np.exp( expo ) ) * c\n",
    "    return sig\n",
    "sig_init_params = { 'a': 0.001, 'b': 500, 'c':4000 }\n",
    "\n",
    "all_models_and_initial_params = [\n",
    "    [line, line_init_params],\n",
    "    [exponent, exp_init_params],\n",
    "    [sigmoid, sig_init_params]\n",
    "]"
   ]
  },
  {
   "cell_type": "code",
   "execution_count": 11,
   "metadata": {},
   "outputs": [
    {
     "data": {
      "image/png": "[encoded data removed]",
      "text/plain": [
       "<Figure size 432x288 with 1 Axes>"
      ]
     },
     "metadata": {
      "needs_background": "light"
     },
     "output_type": "display_data"
    },
    {
     "name": "stdout",
     "output_type": "stream",
     "text": [
      "[[Model]]\n",
      "    Model(line)\n",
      "[[Fit Statistics]]\n",
      "    # fitting method   = leastsq\n",
      "    # function evals   = 17\n",
      "    # data points      = 4\n",
      "    # variables        = 3\n",
      "    chi-square         = 9241.00000\n",
      "    reduced chi-square = 9241.00000\n",
      "    Akaike info crit   = 36.9804441\n",
      "    Bayesian info crit = 35.1393272\n",
      "##  Warning: uncertainties could not be estimated:\n",
      "[[Variables]]\n",
      "    a:  623.000000 (init = 2)\n",
      "    b: -36821.5000 (init = 1)\n",
      "    c:  0.00000000 (init = 0)\n"
     ]
    },
    {
     "data": {
      "image/png": "[encoded data removed]",
      "text/plain": [
       "<Figure size 432x288 with 1 Axes>"
      ]
     },
     "metadata": {
      "needs_background": "light"
     },
     "output_type": "display_data"
    },
    {
     "name": "stdout",
     "output_type": "stream",
     "text": [
      "[[Model]]\n",
      "    Model(exponent)\n",
      "[[Fit Statistics]]\n",
      "    # fitting method   = leastsq\n",
      "    # function evals   = 8002\n",
      "    # data points      = 4\n",
      "    # variables        = 3\n",
      "    chi-square         = 1344.54185\n",
      "    reduced chi-square = 1344.54185\n",
      "    Akaike info crit   = 29.2700570\n",
      "    Bayesian info crit = 27.4289400\n",
      "##  Warning: uncertainties could not be estimated:\n",
      "[[Variables]]\n",
      "    a:  7.38989387 (init = 2)\n",
      "    b:  2.5436e-10 (init = 1)\n",
      "    c: -2643.36168 (init = 0)\n"
     ]
    },
    {
     "data": {
      "image/png": "[encoded data removed]",
      "text/plain": [
       "<Figure size 432x288 with 1 Axes>"
      ]
     },
     "metadata": {
      "needs_background": "light"
     },
     "output_type": "display_data"
    },
    {
     "name": "stdout",
     "output_type": "stream",
     "text": [
      "[[Model]]\n",
      "    Model(sigmoid)\n",
      "[[Fit Statistics]]\n",
      "    # fitting method   = leastsq\n",
      "    # function evals   = 283\n",
      "    # data points      = 4\n",
      "    # variables        = 3\n",
      "    chi-square         = 471.568760\n",
      "    reduced chi-square = 471.568760\n",
      "    Akaike info crit   = 25.0790822\n",
      "    Bayesian info crit = 23.2379653\n",
      "[[Variables]]\n",
      "    a:  0.30637352 +/- 0.03740880 (12.21%) (init = 0.001)\n",
      "    b:  67.2875866 +/- 2.02243736 (3.01%) (init = 500)\n",
      "    c:  11222.8404 +/- 4039.02801 (35.99%) (init = 4000)\n",
      "[[Correlations]] (unreported correlations are < 0.100)\n",
      "    C(b, c) =  1.000\n",
      "    C(a, b) = -0.994\n",
      "    C(a, c) = -0.991\n"
     ]
    }
   ],
   "source": [
    "df_x = df_by_datetime['tempo'].values\n",
    "df_y = df_by_datetime['numero'].values\n",
    "\n",
    "for mod, init_params in all_models_and_initial_params:\n",
    "    \n",
    "    model  = Model(mod)\n",
    "    result = model.fit( df_y, x=df_x, **init_params)\n",
    "    \n",
    "    all_year = np.linspace(np.min(df_x), np.max(df_x)*1.2)\n",
    "    predictions = result.eval(x=all_year)\n",
    "    plt.plot(all_year, predictions, 'r-', label='modello')\n",
    "    plt.plot(df_x, df_y, 'o', label='osservazioni')\n",
    "    plt.legend(loc='best')\n",
    "    plt.show()\n",
    "    \n",
    "    print(result.fit_report())\n",
    "\n",
    "    \n",
    "    "
   ]
  },
  {
   "cell_type": "code",
   "execution_count": null,
   "metadata": {},
   "outputs": [],
   "source": []
  },
  {
   "cell_type": "code",
   "execution_count": null,
   "metadata": {},
   "outputs": [],
   "source": []
  }
 ],
 "metadata": {
  "kernelspec": {
   "display_name": "Python 3",
   "language": "python",
   "name": "python3"
  },
  "language_info": {
   "codemirror_mode": {
    "name": "ipython",
    "version": 3
   },
   "file_extension": ".py",
   "mimetype": "text/x-python",
   "name": "python",
   "nbconvert_exporter": "python",
   "pygments_lexer": "ipython3",
   "version": "3.7.3"
  }
 },
 "nbformat": 4,
 "nbformat_minor": 4
}
