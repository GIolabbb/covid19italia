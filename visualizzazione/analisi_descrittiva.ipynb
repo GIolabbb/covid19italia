{
 "cells": [
  {
   "cell_type": "markdown",
   "metadata": {},
   "source": [
    "# Grafici sui dati sul Corona Virus"
   ]
  },
  {
   "cell_type": "markdown",
   "metadata": {},
   "source": [
    "Qui ci andrebbe una introduzione degna di questo nome xxx xxx xxxx"
   ]
  },
  {
   "cell_type": "markdown",
   "metadata": {},
   "source": [
    "Importiamo le librerie necessarie a fare statistiche e grafici"
   ]
  },
  {
   "cell_type": "code",
   "execution_count": 1,
   "metadata": {},
   "outputs": [],
   "source": [
    "import numpy as np\n",
    "import pandas as pd\n",
    "import seaborn as sns\n",
    "import matplotlib.pyplot as plt"
   ]
  },
  {
   "cell_type": "markdown",
   "metadata": {},
   "source": [
    "Carichiamo i dati e vediamo un'anteprima"
   ]
  },
  {
   "cell_type": "code",
   "execution_count": 2,
   "metadata": {},
   "outputs": [
    {
     "data": {
      "text/html": [
       "<div>\n",
       "<style scoped>\n",
       "    .dataframe tbody tr th:only-of-type {\n",
       "        vertical-align: middle;\n",
       "    }\n",
       "\n",
       "    .dataframe tbody tr th {\n",
       "        vertical-align: top;\n",
       "    }\n",
       "\n",
       "    .dataframe thead th {\n",
       "        text-align: right;\n",
       "    }\n",
       "</style>\n",
       "<table border=\"1\" class=\"dataframe\">\n",
       "  <thead>\n",
       "    <tr style=\"text-align: right;\">\n",
       "      <th></th>\n",
       "      <th>provincia</th>\n",
       "      <th>numero</th>\n",
       "      <th>regione</th>\n",
       "      <th>datetime</th>\n",
       "      <th>codiceISTAT</th>\n",
       "    </tr>\n",
       "  </thead>\n",
       "  <tbody>\n",
       "    <tr>\n",
       "      <th>8</th>\n",
       "      <td>Napoli</td>\n",
       "      <td>17.0</td>\n",
       "      <td>CAMPANIA</td>\n",
       "      <td>2020-03-05</td>\n",
       "      <td>263.0</td>\n",
       "    </tr>\n",
       "    <tr>\n",
       "      <th>268</th>\n",
       "      <td>Lodi</td>\n",
       "      <td>384.0</td>\n",
       "      <td>LOMBARDIA</td>\n",
       "      <td>2020-03-02</td>\n",
       "      <td>98.0</td>\n",
       "    </tr>\n",
       "    <tr>\n",
       "      <th>89</th>\n",
       "      <td>Abruzzo da verificare</td>\n",
       "      <td>2.0</td>\n",
       "      <td>ABRUZZO</td>\n",
       "      <td>2020-03-04</td>\n",
       "      <td>NaN</td>\n",
       "    </tr>\n",
       "    <tr>\n",
       "      <th>239</th>\n",
       "      <td>TREVISO</td>\n",
       "      <td>82.0</td>\n",
       "      <td>VENETO</td>\n",
       "      <td>2020-03-03</td>\n",
       "      <td>26.0</td>\n",
       "    </tr>\n",
       "    <tr>\n",
       "      <th>287</th>\n",
       "      <td>Sicilia da aggiornare</td>\n",
       "      <td>3.0</td>\n",
       "      <td>SICILIA</td>\n",
       "      <td>2020-03-02</td>\n",
       "      <td>NaN</td>\n",
       "    </tr>\n",
       "  </tbody>\n",
       "</table>\n",
       "</div>"
      ],
      "text/plain": [
       "                 provincia  numero    regione    datetime  codiceISTAT\n",
       "8                   Napoli    17.0   CAMPANIA  2020-03-05        263.0\n",
       "268                   Lodi   384.0  LOMBARDIA  2020-03-02         98.0\n",
       "89   Abruzzo da verificare     2.0    ABRUZZO  2020-03-04          NaN\n",
       "239                TREVISO    82.0     VENETO  2020-03-03         26.0\n",
       "287  Sicilia da aggiornare     3.0    SICILIA  2020-03-02          NaN"
      ]
     },
     "execution_count": 2,
     "metadata": {},
     "output_type": "execute_result"
    }
   ],
   "source": [
    "df = pd.read_csv('./../publication/provinceArchivioISTAT.csv')\n",
    "# in alternativa URL diretta:\n",
    "# https://raw.githubusercontent.com/ondata/covid19italia/master/publication/provinceArchivio.csv\n",
    "\n",
    "df.sample(5)"
   ]
  },
  {
   "cell_type": "markdown",
   "metadata": {},
   "source": [
    "I dati del repo sono continuamente aggiornati, vediamo su quali luoghi e in che arco di tempo sono le osservazioni"
   ]
  },
  {
   "cell_type": "code",
   "execution_count": 31,
   "metadata": {},
   "outputs": [
    {
     "name": "stdout",
     "output_type": "stream",
     "text": [
      "\n",
      "\n",
      " --- provincia ---\n",
      "in fase di verifica e aggiornamento    12\n",
      "Catania                                 4\n",
      "Massa Carrara                           4\n",
      "Varese                                  4\n",
      "Teramo                                  4\n",
      "                                       ..\n",
      "Lazio in fase di verifica               1\n",
      "Grosseto                                1\n",
      "Umbria da verificare                    1\n",
      "BIELLA                                  1\n",
      "Catanzaro                               1\n",
      "Name: provincia, Length: 88, dtype: int64\n",
      "\n",
      "\n",
      " --- regione ---\n",
      "LOMBARDIA                52\n",
      "EMILIA-ROMAGNA           38\n",
      "VENETO                   31\n",
      "TOSCANA                  31\n",
      "PIEMONTE                 26\n",
      "LIGURIA                  19\n",
      "PUGLIA                   16\n",
      "ABRUZZO                  13\n",
      "SICILIA                  12\n",
      "MARCHE                   10\n",
      "FRIULI VENEZIA GIULIA    10\n",
      "UMBRIA                    9\n",
      "TRENTINO ALTO ADIGE       7\n",
      "LAZIO                     7\n",
      "CAMPANIA                  6\n",
      "CALABRIA                  5\n",
      "MOLISE                    3\n",
      "SARDEGNA                  3\n",
      "BASILICATA                3\n",
      "Pesaro                    2\n",
      "VALLE D'AOSTA             1\n",
      "Name: regione, dtype: int64\n",
      "\n",
      "\n",
      " --- datetime ---\n",
      "2020-03-05    89\n",
      "2020-03-04    84\n",
      "2020-03-03    71\n",
      "2020-03-02    60\n",
      "Name: datetime, dtype: int64\n"
     ]
    }
   ],
   "source": [
    "for c in ['provincia', 'regione', 'datetime'] : \n",
    "    print(f'\\n\\n --- {c} ---')\n",
    "    print(df[c].value_counts())"
   ]
  },
  {
   "cell_type": "markdown",
   "metadata": {},
   "source": [
    "Qualche statistica descrittiva sul numero dei contagiati"
   ]
  },
  {
   "cell_type": "code",
   "execution_count": 32,
   "metadata": {},
   "outputs": [
    {
     "name": "stdout",
     "output_type": "stream",
     "text": [
      "Totale contagiati 11429.0\n"
     ]
    }
   ],
   "source": [
    "totale_contagiati = df['numero'].sum()\n",
    "print(f'Totale contagiati {totale_contagiati}')"
   ]
  },
  {
   "cell_type": "markdown",
   "metadata": {},
   "source": [
    "## I contagiati per regione, provincia, data"
   ]
  },
  {
   "cell_type": "code",
   "execution_count": 33,
   "metadata": {},
   "outputs": [
    {
     "data": {
      "image/png": "[encoded data removed]",
      "text/plain": [
       "<Figure size 432x288 with 1 Axes>"
      ]
     },
     "metadata": {
      "needs_background": "light"
     },
     "output_type": "display_data"
    },
    {
     "name": "stdout",
     "output_type": "stream",
     "text": [
      "                       numero\n",
      "regione                      \n",
      "LOMBARDIA              6845.0\n",
      "EMILIA-ROMAGNA         1997.0\n",
      "VENETO                 1347.0\n",
      "PIEMONTE                297.0\n",
      "MARCHE                  243.0\n",
      "TOSCANA                 131.0\n",
      "CAMPANIA                123.0\n",
      "LIGURIA                 100.0\n",
      "LAZIO                    95.0\n",
      "FRIULI VENEZIA GIULIA    61.0\n",
      "SICILIA                  50.0\n",
      "PUGLIA                   32.0\n",
      "UMBRIA                   28.0\n",
      "ABRUZZO                  26.0\n",
      "TRENTINO ALTO ADIGE      20.0\n",
      "MOLISE                   13.0\n",
      "Pesaro                    6.0\n",
      "SARDEGNA                  5.0\n",
      "CALABRIA                  5.0\n",
      "BASILICATA                3.0\n",
      "VALLE D'AOSTA             2.0\n"
     ]
    }
   ],
   "source": [
    "df_by_regione = df[ ['regione', 'numero'] ].groupby('regione')\n",
    "df_by_regione = df_by_regione.sum().sort_values(by='numero', ascending=False)\n",
    "\n",
    "sns.barplot(data=df_by_regione.reset_index(), x='numero', y='regione')\n",
    "plt.show()\n",
    "\n",
    "print(df_grouped_by_regione)"
   ]
  },
  {
   "cell_type": "code",
   "execution_count": 34,
   "metadata": {},
   "outputs": [
    {
     "data": {
      "image/png": "[encoded data removed]",
      "text/plain": [
       "<Figure size 432x288 with 1 Axes>"
      ]
     },
     "metadata": {
      "needs_background": "light"
     },
     "output_type": "display_data"
    },
    {
     "name": "stdout",
     "output_type": "stream",
     "text": [
      "                                     numero\n",
      "provincia                                  \n",
      "Lodi                                 2083.0\n",
      "Bergamo                              1575.0\n",
      "Cremona                              1249.0\n",
      "Piacenza                             1165.0\n",
      "PADOVA                                616.0\n",
      "Milano                                493.0\n",
      "Pavia                                 482.0\n",
      "Brescia                               428.0\n",
      "Parma                                 410.0\n",
      "in fase di verifica e aggiornamento   369.0\n",
      "TREVISO                               329.0\n",
      "VENEZIA                               228.0\n",
      "Pesaro                                205.0\n",
      "Asti                                  161.0\n",
      "Modena                                148.0\n",
      "Rimini                                144.0\n",
      "Roma                                   92.0\n",
      "Napoli                                 81.0\n",
      "Savona                                 75.0\n",
      "Reggio Emilia                          73.0\n"
     ]
    }
   ],
   "source": [
    "df_by_provincia = df[ ['provincia', 'numero'] ].groupby('provincia')\n",
    "df_by_provincia = df_by_provincia.sum().sort_values(by='numero', ascending=False)\n",
    "\n",
    "# prendiamo in considerazione solo le prime 20 più colpite\n",
    "df_by_provincia = df_by_provincia.head(20)\n",
    "\n",
    "sns.barplot(data=df_by_provincia.reset_index(), x='numero', y='provincia')\n",
    "plt.show()\n",
    "\n",
    "print(df_by_provincia)"
   ]
  },
  {
   "cell_type": "code",
   "execution_count": 41,
   "metadata": {},
   "outputs": [
    {
     "data": {
      "image/png": "[encoded data removed]",
      "text/plain": [
       "<Figure size 432x288 with 1 Axes>"
      ]
     },
     "metadata": {
      "needs_background": "light"
     },
     "output_type": "display_data"
    },
    {
     "name": "stdout",
     "output_type": "stream",
     "text": [
      "            numero\n",
      "datetime          \n",
      "2020-03-02  2036.0\n",
      "2020-03-03  2446.0\n",
      "2020-03-04  3089.0\n",
      "2020-03-05  3858.0\n"
     ]
    }
   ],
   "source": [
    "df_by_datetime = df[ ['datetime', 'numero'] ].groupby('datetime')\n",
    "df_by_datetime = df_by_datetime.sum().sort_values(by='datetime')\n",
    "\n",
    "sns.barplot(data=df_by_datetime.reset_index(), x='datetime', y='numero')\n",
    "plt.show()\n",
    "\n",
    "print(df_by_datetime)"
   ]
  },
  {
   "cell_type": "code",
   "execution_count": null,
   "metadata": {},
   "outputs": [],
   "source": []
  }
 ],
 "metadata": {
  "kernelspec": {
   "display_name": "Python 3",
   "language": "python",
   "name": "python3"
  },
  "language_info": {
   "codemirror_mode": {
    "name": "ipython",
    "version": 3
   },
   "file_extension": ".py",
   "mimetype": "text/x-python",
   "name": "python",
   "nbconvert_exporter": "python",
   "pygments_lexer": "ipython3",
   "version": "3.7.3"
  }
 },
 "nbformat": 4,
 "nbformat_minor": 4
}
