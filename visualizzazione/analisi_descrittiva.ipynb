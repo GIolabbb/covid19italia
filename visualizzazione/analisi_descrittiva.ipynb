{
 "cells": [
  {
   "cell_type": "markdown",
   "metadata": {},
   "source": [
    "# Grafici sui dati sul Corona Virus\n",
    "## Se non vuoi vedere il codice, vai in basso e troverai le figure"
   ]
  },
  {
   "cell_type": "markdown",
   "metadata": {},
   "source": [
    "Qui ci andrebbe una introduzione degna di questo nome xxx xxx xxxx"
   ]
  },
  {
   "cell_type": "markdown",
   "metadata": {},
   "source": [
    "Importiamo le librerie necessarie a fare statistiche e grafici"
   ]
  },
  {
   "cell_type": "code",
   "execution_count": 2,
   "metadata": {},
   "outputs": [],
   "source": [
    "import numpy as np\n",
    "import pandas as pd\n",
    "import seaborn as sns\n",
    "import matplotlib.pyplot as plt"
   ]
  },
  {
   "cell_type": "markdown",
   "metadata": {},
   "source": [
    "Carichiamo i dati, togliamo le righe con valori mancanti e vediamo un'anteprima"
   ]
  },
  {
   "cell_type": "code",
   "execution_count": 3,
   "metadata": {},
   "outputs": [
    {
     "data": {
      "text/html": [
       "<div>\n",
       "<style scoped>\n",
       "    .dataframe tbody tr th:only-of-type {\n",
       "        vertical-align: middle;\n",
       "    }\n",
       "\n",
       "    .dataframe tbody tr th {\n",
       "        vertical-align: top;\n",
       "    }\n",
       "\n",
       "    .dataframe thead th {\n",
       "        text-align: right;\n",
       "    }\n",
       "</style>\n",
       "<table border=\"1\" class=\"dataframe\">\n",
       "  <thead>\n",
       "    <tr style=\"text-align: right;\">\n",
       "      <th></th>\n",
       "      <th>provincia</th>\n",
       "      <th>numero</th>\n",
       "      <th>regione</th>\n",
       "      <th>datetime</th>\n",
       "      <th>codiceISTAT</th>\n",
       "    </tr>\n",
       "  </thead>\n",
       "  <tbody>\n",
       "    <tr>\n",
       "      <th>244</th>\n",
       "      <td>Teramo</td>\n",
       "      <td>5.0</td>\n",
       "      <td>ABRUZZO</td>\n",
       "      <td>2020-03-02</td>\n",
       "      <td>67.0</td>\n",
       "    </tr>\n",
       "    <tr>\n",
       "      <th>226</th>\n",
       "      <td>Firenze</td>\n",
       "      <td>7.0</td>\n",
       "      <td>TOSCANA</td>\n",
       "      <td>2020-03-03</td>\n",
       "      <td>248.0</td>\n",
       "    </tr>\n",
       "    <tr>\n",
       "      <th>225</th>\n",
       "      <td>Arezzo</td>\n",
       "      <td>2.0</td>\n",
       "      <td>TOSCANA</td>\n",
       "      <td>2020-03-03</td>\n",
       "      <td>51.0</td>\n",
       "    </tr>\n",
       "    <tr>\n",
       "      <th>8</th>\n",
       "      <td>Napoli</td>\n",
       "      <td>17.0</td>\n",
       "      <td>CAMPANIA</td>\n",
       "      <td>2020-03-05</td>\n",
       "      <td>263.0</td>\n",
       "    </tr>\n",
       "    <tr>\n",
       "      <th>156</th>\n",
       "      <td>Massa Carrara</td>\n",
       "      <td>4.0</td>\n",
       "      <td>TOSCANA</td>\n",
       "      <td>2020-03-04</td>\n",
       "      <td>45.0</td>\n",
       "    </tr>\n",
       "  </tbody>\n",
       "</table>\n",
       "</div>"
      ],
      "text/plain": [
       "         provincia  numero   regione    datetime  codiceISTAT\n",
       "244         Teramo     5.0   ABRUZZO  2020-03-02         67.0\n",
       "226        Firenze     7.0   TOSCANA  2020-03-03        248.0\n",
       "225         Arezzo     2.0   TOSCANA  2020-03-03         51.0\n",
       "8           Napoli    17.0  CAMPANIA  2020-03-05        263.0\n",
       "156  Massa Carrara     4.0   TOSCANA  2020-03-04         45.0"
      ]
     },
     "execution_count": 3,
     "metadata": {},
     "output_type": "execute_result"
    }
   ],
   "source": [
    "df = pd.read_csv('./../publication/provinceArchivioISTAT.csv')\n",
    "# in alternativa URL diretta:\n",
    "# https://raw.githubusercontent.com/ondata/covid19italia/master/publication/provinceArchivio.csv\n",
    "\n",
    "df = df.dropna()\n",
    "\n",
    "df.sample(5)"
   ]
  },
  {
   "cell_type": "markdown",
   "metadata": {},
   "source": [
    "## Attenzione\n",
    "Concentriamoci sulla colonna \"numero\".\n",
    "Questa contiene i malati accertati fino a quel giorno, quindi non avrebbe senso sommare le osservazioni precedenti sullo stesso luogo.\n",
    "\n",
    "Prepariamo una colonna contenente solo i NUOVI contagiati in un certo giorno.\n",
    "\n",
    "(decommenta i print nel codice per vedere i passaggi uno per uno)"
   ]
  },
  {
   "cell_type": "code",
   "execution_count": 25,
   "metadata": {},
   "outputs": [
    {
     "data": {
      "text/html": [
       "<div>\n",
       "<style scoped>\n",
       "    .dataframe tbody tr th:only-of-type {\n",
       "        vertical-align: middle;\n",
       "    }\n",
       "\n",
       "    .dataframe tbody tr th {\n",
       "        vertical-align: top;\n",
       "    }\n",
       "\n",
       "    .dataframe thead th {\n",
       "        text-align: right;\n",
       "    }\n",
       "</style>\n",
       "<table border=\"1\" class=\"dataframe\">\n",
       "  <thead>\n",
       "    <tr style=\"text-align: right;\">\n",
       "      <th></th>\n",
       "      <th>provincia</th>\n",
       "      <th>numero</th>\n",
       "      <th>regione</th>\n",
       "      <th>datetime</th>\n",
       "      <th>codiceISTAT</th>\n",
       "      <th>nuovi_contagi</th>\n",
       "    </tr>\n",
       "  </thead>\n",
       "  <tbody>\n",
       "    <tr>\n",
       "      <th>270</th>\n",
       "      <td>Milano</td>\n",
       "      <td>58.0</td>\n",
       "      <td>LOMBARDIA</td>\n",
       "      <td>2020-03-02</td>\n",
       "      <td>215.0</td>\n",
       "      <td>NaN</td>\n",
       "    </tr>\n",
       "    <tr>\n",
       "      <th>204</th>\n",
       "      <td>Milano</td>\n",
       "      <td>93.0</td>\n",
       "      <td>LOMBARDIA</td>\n",
       "      <td>2020-03-03</td>\n",
       "      <td>215.0</td>\n",
       "      <td>35.0</td>\n",
       "    </tr>\n",
       "    <tr>\n",
       "      <th>124</th>\n",
       "      <td>Milano</td>\n",
       "      <td>145.0</td>\n",
       "      <td>LOMBARDIA</td>\n",
       "      <td>2020-03-04</td>\n",
       "      <td>215.0</td>\n",
       "      <td>52.0</td>\n",
       "    </tr>\n",
       "    <tr>\n",
       "      <th>37</th>\n",
       "      <td>Milano</td>\n",
       "      <td>197.0</td>\n",
       "      <td>LOMBARDIA</td>\n",
       "      <td>2020-03-05</td>\n",
       "      <td>215.0</td>\n",
       "      <td>52.0</td>\n",
       "    </tr>\n",
       "  </tbody>\n",
       "</table>\n",
       "</div>"
      ],
      "text/plain": [
       "    provincia  numero    regione    datetime  codiceISTAT  nuovi_contagi\n",
       "270    Milano    58.0  LOMBARDIA  2020-03-02        215.0            NaN\n",
       "204    Milano    93.0  LOMBARDIA  2020-03-03        215.0           35.0\n",
       "124    Milano   145.0  LOMBARDIA  2020-03-04        215.0           52.0\n",
       "37     Milano   197.0  LOMBARDIA  2020-03-05        215.0           52.0"
      ]
     },
     "execution_count": 25,
     "metadata": {},
     "output_type": "execute_result"
    }
   ],
   "source": [
    "# ordiniamo i dati in base a provincia e giorno\n",
    "df = df.sort_values(by=['provincia', 'datetime'])\n",
    "\n",
    "# sottraiamo il numero dei contagiati di un giorno da quelli del giorno precedente\n",
    "# prima di fare la sottrazione dobbiamo raggruppare per provincia\n",
    "df['nuovi_contagi'] = df[ ['numero', 'provincia'] ].groupby('provincia').diff()\n",
    "\n",
    "# esempio\n",
    "df[ df['provincia'] == 'Milano' ]"
   ]
  },
  {
   "cell_type": "markdown",
   "metadata": {},
   "source": [
    "Da adesso in poi ci possiamo distinguere le nostre analisi, tenendo conto degli andamenti `nuovi_contagi` e del numero cumulativo con `numero`."
   ]
  },
  {
   "cell_type": "code",
   "execution_count": 34,
   "metadata": {},
   "outputs": [
    {
     "name": "stdout",
     "output_type": "stream",
     "text": [
      "\n",
      "\n",
      "Totale contagiati al 2020-03-05: 3725.0\n"
     ]
    }
   ],
   "source": [
    "ultimo_giorno = df['datetime'].max()\n",
    "df_ultimo_giorno = df[ df['datetime'] == ultimo_giorno ]\n",
    "totale_contagiati = df_ultimo_giorno['numero'].sum()\n",
    "print(f'\\n\\nTotale contagiati al {ultimo_giorno}: {totale_contagiati}')"
   ]
  },
  {
   "cell_type": "markdown",
   "metadata": {},
   "source": [
    "## I contagiati per regione, provincia, data"
   ]
  },
  {
   "cell_type": "code",
   "execution_count": 36,
   "metadata": {},
   "outputs": [
    {
     "data": {
      "image/png": "[encoded data removed]",
      "text/plain": [
       "<Figure size 432x288 with 1 Axes>"
      ]
     },
     "metadata": {
      "needs_background": "light"
     },
     "output_type": "display_data"
    },
    {
     "name": "stdout",
     "output_type": "stream",
     "text": [
      "                       numero\n",
      "regione                      \n",
      "LOMBARDIA              2189.0\n",
      "EMILIA-ROMAGNA          694.0\n",
      "VENETO                  393.0\n",
      "MARCHE                  124.0\n",
      "PIEMONTE                102.0\n",
      "TOSCANA                  61.0\n",
      "LAZIO                    43.0\n",
      "LIGURIA                  24.0\n",
      "FRIULI VENEZIA GIULIA    21.0\n",
      "CAMPANIA                 17.0\n",
      "PUGLIA                   14.0\n",
      "UMBRIA                    9.0\n",
      "TRENTINO ALTO ADIGE       8.0\n",
      "ABRUZZO                   8.0\n",
      "MOLISE                    7.0\n",
      "SICILIA                   4.0\n",
      "SARDEGNA                  2.0\n",
      "CALABRIA                  2.0\n",
      "VALLE D'AOSTA             2.0\n",
      "BASILICATA                1.0\n"
     ]
    }
   ],
   "source": [
    "df_by_regione = df_ultimo_giorno[ ['regione', 'numero'] ].groupby('regione')\n",
    "df_by_regione = df_by_regione.sum().sort_values(by='numero', ascending=False)\n",
    "\n",
    "sns.barplot(data=df_by_regione.reset_index(), x='numero', y='regione')\n",
    "plt.show()\n",
    "\n",
    "print(df_by_regione)"
   ]
  },
  {
   "cell_type": "code",
   "execution_count": 40,
   "metadata": {},
   "outputs": [
    {
     "data": {
      "image/png": "[encoded data removed]",
      "text/plain": [
       "<Figure size 432x288 with 1 Axes>"
      ]
     },
     "metadata": {
      "needs_background": "light"
     },
     "output_type": "display_data"
    },
    {
     "name": "stdout",
     "output_type": "stream",
     "text": [
      "        provincia  numero\n",
      "35           Lodi   658.0\n",
      "30        Bergamo   537.0\n",
      "33        Cremona   406.0\n",
      "14       Piacenza   378.0\n",
      "37         Milano   197.0\n",
      "82         PADOVA   175.0\n",
      "31        Brescia   155.0\n",
      "39          Pavia   151.0\n",
      "13          Parma   150.0\n",
      "46         Pesaro   100.0\n",
      "84        TREVISO    89.0\n",
      "85        VENEZIA    73.0\n",
      "17         Rimini    68.0\n",
      "12         Modena    45.0\n",
      "49           Asti    43.0\n",
      "24           Roma    42.0\n",
      "16  Reggio Emilia    31.0\n",
      "36        Mantova    26.0\n",
      "86         VERONA    25.0\n",
      "48    Alessandria    22.0\n"
     ]
    }
   ],
   "source": [
    "df_by_provincia = df_ultimo_giorno.sort_values(by='numero', ascending=False)\n",
    "\n",
    "# prendiamo in considerazione solo le prime 20 più colpite\n",
    "df_by_provincia = df_by_provincia.head(20)\n",
    "\n",
    "sns.barplot(data=df_by_provincia, x='numero', y='provincia')\n",
    "plt.show()\n",
    "\n",
    "print(df_by_provincia[ ['provincia', 'numero'] ])"
   ]
  },
  {
   "cell_type": "code",
   "execution_count": 49,
   "metadata": {},
   "outputs": [
    {
     "data": {
      "image/png": "[encoded data removed]",
      "text/plain": [
       "<Figure size 432x288 with 1 Axes>"
      ]
     },
     "metadata": {
      "needs_background": "light"
     },
     "output_type": "display_data"
    },
    {
     "data": {
      "image/png": "[encoded data removed]",
      "text/plain": [
       "<Figure size 432x288 with 1 Axes>"
      ]
     },
     "metadata": {
      "needs_background": "light"
     },
     "output_type": "display_data"
    }
   ],
   "source": [
    "# raggruppa in base al giorno\n",
    "df_by_datetime = df[ ['datetime', 'numero', 'nuovi_contagi'] ].groupby('datetime')\n",
    "df_by_datetime = df_by_datetime.sum().sort_values(by='datetime')\n",
    "\n",
    "# contagi cumulativi\n",
    "g = sns.lineplot(data=df_by_datetime.reset_index(), x='datetime', y='numero')\n",
    "g.set_title('Andamento numero contagiati (cumulativo)')\n",
    "plt.show()\n",
    "\n",
    "# nuovi contagi\n",
    "g = sns.lineplot(data=df_by_datetime.reset_index(), x='datetime', y='nuovi_contagi')\n",
    "g.set_title('Andamento nuovi contagi')\n",
    "plt.show()\n"
   ]
  },
  {
   "cell_type": "code",
   "execution_count": null,
   "metadata": {},
   "outputs": [],
   "source": []
  }
 ],
 "metadata": {
  "kernelspec": {
   "display_name": "Python 3",
   "language": "python",
   "name": "python3"
  },
  "language_info": {
   "codemirror_mode": {
    "name": "ipython",
    "version": 3
   },
   "file_extension": ".py",
   "mimetype": "text/x-python",
   "name": "python",
   "nbconvert_exporter": "python",
   "pygments_lexer": "ipython3",
   "version": "3.7.3"
  }
 },
 "nbformat": 4,
 "nbformat_minor": 4
}
